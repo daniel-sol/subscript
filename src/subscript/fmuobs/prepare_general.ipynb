{
 "cells": [
  {
   "cell_type": "code",
   "execution_count": 15,
   "metadata": {},
   "outputs": [],
   "source": [
    "from pathlib import Path\n",
    "import pandas as pd"
   ]
  },
  {
   "cell_type": "markdown",
   "metadata": {},
   "source": [
    "### Files to read\n",
    "\n",
    "\n"
   ]
  },
  {
   "cell_type": "code",
   "execution_count": 2,
   "metadata": {},
   "outputs": [],
   "source": [
    "RFT_DUMP = \"/project/snorre/reservoirmodels/ff/2021.2.0/preprocessing/input/rft/RFT_dump_221220_ZoneAdjusted.txt\"\n",
    "WELL_ALIAS_FILENAME = \"/project/snorre/reservoirmodels/ff/2023.0.1/rms/input/well_modelling/well_info/well_alias_rms_ecl.txt\""
   ]
  },
  {
   "cell_type": "markdown",
   "metadata": {},
   "source": [
    "### Read files\n"
   ]
  },
  {
   "cell_type": "markdown",
   "metadata": {},
   "source": [
    "##### Read and massage rfts"
   ]
  },
  {
   "cell_type": "code",
   "execution_count": 3,
   "metadata": {},
   "outputs": [
    {
     "name": "stdout",
     "output_type": "stream",
     "text": [
      "md is not string\n",
      "tvd is not string\n",
      "value is not string\n",
      "quality is not string\n",
      "something is not string\n",
      "val_again is not string\n",
      "X is not string\n",
      "Y is not string\n"
     ]
    }
   ],
   "source": [
    "RFT_COLS = [\"well_name\", \"datatype\", \"date\", \"md\", \"tvd\", \"zone\", \"value\", \"quality\", \"something\", \"val_again\", \"X\", \"Y\", \"Classification\"]\n",
    "RFTS = pd.read_csv(RFT_DUMP, sep=\";\", skipinitialspace=True, header=0, names=RFT_COLS)\n",
    "\n",
    "for col_name in RFTS.columns:\n",
    "    try:\n",
    "        RFTS[col_name] = RFTS[col_name].str.strip()\n",
    "    except AttributeError:\n",
    "        print(f\"{col_name} is not string\")\n",
    "\n",
    "RFTS[\"quality\"] = RFTS[\"quality\"].astype(int)\n"
   ]
  },
  {
   "cell_type": "code",
   "execution_count": 4,
   "metadata": {},
   "outputs": [],
   "source": [
    "WELL_ALIASES = pd.read_csv(WELL_ALIAS_FILENAME, sep=\"\\s+\", comment=\"#\", header=None, names=[\"rms\", \"eclipse\"])\n"
   ]
  },
  {
   "cell_type": "markdown",
   "metadata": {},
   "source": [
    "### Make dictionary for aliasing between well name and eclipse name"
   ]
  },
  {
   "cell_type": "code",
   "execution_count": 5,
   "metadata": {},
   "outputs": [],
   "source": [
    "# Add column for actual well name\n",
    "WELL_ALIASES[\"well_name\"] = WELL_ALIASES.rms.str.replace(r\"(RFT_)?(\\d{2})_(\\d[^_]+)_(.*)\", r\"NO \\2/\\3 \\4\", regex=True)\n",
    "RENAMER = dict(zip(WELL_ALIASES.well_name, WELL_ALIASES.eclipse))\n",
    "\n"
   ]
  },
  {
   "cell_type": "markdown",
   "metadata": {},
   "source": [
    "#### Merge aliases with rft"
   ]
  },
  {
   "cell_type": "code",
   "execution_count": 6,
   "metadata": {},
   "outputs": [],
   "source": [
    "MERGED = pd.merge(RFTS, WELL_ALIASES, on=\"well_name\")\n"
   ]
  },
  {
   "cell_type": "markdown",
   "metadata": {},
   "source": [
    "#### Add error"
   ]
  },
  {
   "cell_type": "code",
   "execution_count": 7,
   "metadata": {},
   "outputs": [
    {
     "data": {
      "text/html": [
       "<div>\n",
       "<style scoped>\n",
       "    .dataframe tbody tr th:only-of-type {\n",
       "        vertical-align: middle;\n",
       "    }\n",
       "\n",
       "    .dataframe tbody tr th {\n",
       "        vertical-align: top;\n",
       "    }\n",
       "\n",
       "    .dataframe thead th {\n",
       "        text-align: right;\n",
       "    }\n",
       "</style>\n",
       "<table border=\"1\" class=\"dataframe\">\n",
       "  <thead>\n",
       "    <tr style=\"text-align: right;\">\n",
       "      <th></th>\n",
       "      <th>well_name</th>\n",
       "      <th>datatype</th>\n",
       "      <th>date</th>\n",
       "      <th>md</th>\n",
       "      <th>tvd</th>\n",
       "      <th>zone</th>\n",
       "      <th>value</th>\n",
       "      <th>quality</th>\n",
       "      <th>something</th>\n",
       "      <th>val_again</th>\n",
       "      <th>X</th>\n",
       "      <th>Y</th>\n",
       "      <th>Classification</th>\n",
       "      <th>rms</th>\n",
       "      <th>eclipse</th>\n",
       "      <th>error</th>\n",
       "    </tr>\n",
       "  </thead>\n",
       "  <tbody>\n",
       "    <tr>\n",
       "      <th>0</th>\n",
       "      <td>NO 34/4-12 A</td>\n",
       "      <td>Pressure</td>\n",
       "      <td>2010-02-07</td>\n",
       "      <td>2565.6</td>\n",
       "      <td>2456.942</td>\n",
       "      <td>SNML1_3</td>\n",
       "      <td>371.90</td>\n",
       "      <td>3</td>\n",
       "      <td>-999.25</td>\n",
       "      <td>371.90</td>\n",
       "      <td>462096.98</td>\n",
       "      <td>6824565.43</td>\n",
       "      <td>UNKNOWN</td>\n",
       "      <td>RFT_34_4-12_A</td>\n",
       "      <td>R_4_12A</td>\n",
       "      <td>5.0</td>\n",
       "    </tr>\n",
       "    <tr>\n",
       "      <th>1</th>\n",
       "      <td>NO 34/4-12 A</td>\n",
       "      <td>Pressure</td>\n",
       "      <td>2010-02-07</td>\n",
       "      <td>2572.6</td>\n",
       "      <td>2463.187</td>\n",
       "      <td>SNML1_3</td>\n",
       "      <td>373.23</td>\n",
       "      <td>3</td>\n",
       "      <td>-999.25</td>\n",
       "      <td>373.23</td>\n",
       "      <td>462093.85</td>\n",
       "      <td>6824565.00</td>\n",
       "      <td>UNKNOWN</td>\n",
       "      <td>RFT_34_4-12_A</td>\n",
       "      <td>R_4_12A</td>\n",
       "      <td>5.0</td>\n",
       "    </tr>\n",
       "    <tr>\n",
       "      <th>2</th>\n",
       "      <td>NO 34/4-12 A</td>\n",
       "      <td>Pressure</td>\n",
       "      <td>2010-02-07</td>\n",
       "      <td>2575.0</td>\n",
       "      <td>2465.328</td>\n",
       "      <td>SNML1_3</td>\n",
       "      <td>373.35</td>\n",
       "      <td>4</td>\n",
       "      <td>-999.25</td>\n",
       "      <td>373.35</td>\n",
       "      <td>462092.78</td>\n",
       "      <td>6824564.85</td>\n",
       "      <td>UNKNOWN</td>\n",
       "      <td>RFT_34_4-12_A</td>\n",
       "      <td>R_4_12A</td>\n",
       "      <td>10.0</td>\n",
       "    </tr>\n",
       "    <tr>\n",
       "      <th>3</th>\n",
       "      <td>NO 34/4-12 A</td>\n",
       "      <td>Pressure</td>\n",
       "      <td>2010-02-07</td>\n",
       "      <td>2580.8</td>\n",
       "      <td>2470.495</td>\n",
       "      <td>SNLL</td>\n",
       "      <td>373.70</td>\n",
       "      <td>2</td>\n",
       "      <td>-999.25</td>\n",
       "      <td>373.70</td>\n",
       "      <td>462090.17</td>\n",
       "      <td>6824564.48</td>\n",
       "      <td>UNKNOWN</td>\n",
       "      <td>RFT_34_4-12_A</td>\n",
       "      <td>R_4_12A</td>\n",
       "      <td>2.5</td>\n",
       "    </tr>\n",
       "    <tr>\n",
       "      <th>4</th>\n",
       "      <td>NO 34/4-12 A</td>\n",
       "      <td>Pressure</td>\n",
       "      <td>2010-02-07</td>\n",
       "      <td>2585.0</td>\n",
       "      <td>2474.235</td>\n",
       "      <td>SNLL</td>\n",
       "      <td>-999.25</td>\n",
       "      <td>1</td>\n",
       "      <td>-999.25</td>\n",
       "      <td>-999.25</td>\n",
       "      <td>462088.28</td>\n",
       "      <td>6824564.21</td>\n",
       "      <td>UNKNOWN</td>\n",
       "      <td>RFT_34_4-12_A</td>\n",
       "      <td>R_4_12A</td>\n",
       "      <td>1.0</td>\n",
       "    </tr>\n",
       "  </tbody>\n",
       "</table>\n",
       "</div>"
      ],
      "text/plain": [
       "      well_name  datatype        date      md       tvd     zone   value  \\\n",
       "0  NO 34/4-12 A  Pressure  2010-02-07  2565.6  2456.942  SNML1_3  371.90   \n",
       "1  NO 34/4-12 A  Pressure  2010-02-07  2572.6  2463.187  SNML1_3  373.23   \n",
       "2  NO 34/4-12 A  Pressure  2010-02-07  2575.0  2465.328  SNML1_3  373.35   \n",
       "3  NO 34/4-12 A  Pressure  2010-02-07  2580.8  2470.495     SNLL  373.70   \n",
       "4  NO 34/4-12 A  Pressure  2010-02-07  2585.0  2474.235     SNLL -999.25   \n",
       "\n",
       "   quality  something  val_again          X           Y Classification  \\\n",
       "0        3    -999.25     371.90  462096.98  6824565.43        UNKNOWN   \n",
       "1        3    -999.25     373.23  462093.85  6824565.00        UNKNOWN   \n",
       "2        4    -999.25     373.35  462092.78  6824564.85        UNKNOWN   \n",
       "3        2    -999.25     373.70  462090.17  6824564.48        UNKNOWN   \n",
       "4        1    -999.25    -999.25  462088.28  6824564.21        UNKNOWN   \n",
       "\n",
       "             rms  eclipse  error  \n",
       "0  RFT_34_4-12_A  R_4_12A    5.0  \n",
       "1  RFT_34_4-12_A  R_4_12A    5.0  \n",
       "2  RFT_34_4-12_A  R_4_12A   10.0  \n",
       "3  RFT_34_4-12_A  R_4_12A    2.5  \n",
       "4  RFT_34_4-12_A  R_4_12A    1.0  "
      ]
     },
     "execution_count": 7,
     "metadata": {},
     "output_type": "execute_result"
    }
   ],
   "source": [
    "errors = {1: 1, 2:2.5, 3:5, 4:10, -999: 10}\n",
    "MERGED[\"error\"] = MERGED.quality.replace(errors)\n",
    "MERGED.head()"
   ]
  },
  {
   "cell_type": "markdown",
   "metadata": {},
   "source": [
    "### Add a combined field for well and and date, and restart"
   ]
  },
  {
   "cell_type": "code",
   "execution_count": 12,
   "metadata": {},
   "outputs": [],
   "source": [
    "MERGED[\"restart\"] = \"1\"\n",
    "MERGED[\"COMBINED_INFO\"] = MERGED[\"eclipse\"] + \" \" + MERGED[\"date\"] + MERGED[\"restart\"]"
   ]
  },
  {
   "cell_type": "markdown",
   "metadata": {},
   "source": [
    "#### Some analysis \n"
   ]
  },
  {
   "cell_type": "code",
   "execution_count": 11,
   "metadata": {},
   "outputs": [
    {
     "name": "stdout",
     "output_type": "stream",
     "text": [
      "Datatypes: \n",
      "--------------------\n",
      "well_name          object\n",
      "datatype           object\n",
      "date               object\n",
      "md                float64\n",
      "tvd               float64\n",
      "zone               object\n",
      "value             float64\n",
      "quality             int64\n",
      "something         float64\n",
      "val_again         float64\n",
      "X                 float64\n",
      "Y                 float64\n",
      "Classification     object\n",
      "rms                object\n",
      "eclipse            object\n",
      "error             float64\n",
      "dtype: object\n",
      "Description of string columns:\n",
      "--------------------\n",
      "              well_name  datatype        date  zone Classification  \\\n",
      "count              3458      3458        3458  3458           3458   \n",
      "unique              125         1         122    26              1   \n",
      "top     NO 34/4-K-3 HT2  Pressure  2003-02-09   SN3        UNKNOWN   \n",
      "freq                 98      3458          98   362           3458   \n",
      "\n",
      "                     rms  eclipse  \n",
      "count               3458     3458  \n",
      "unique               230      230  \n",
      "top     RFT_34_4-K-3_HT2  R_K3HT2  \n",
      "freq                  49       49  \n",
      "Description of float columns:\n",
      "--------------------\n",
      "                md          tvd        value      quality  something  \\\n",
      "count  3458.000000  3458.000000  3458.000000  3458.000000    3458.00   \n",
      "mean   4051.904595  2526.832499   109.931131   -69.612493    -999.25   \n",
      "std    1062.973750   101.536300   491.671451   259.489358       0.00   \n",
      "min    2364.000000  1820.302000  -999.250000  -999.000000    -999.25   \n",
      "25%    3135.032500  2460.869000   278.715000     2.000000    -999.25   \n",
      "50%    3891.120000  2521.366000   315.860000     3.000000    -999.25   \n",
      "75%    4760.000000  2571.551000   352.800000     4.000000    -999.25   \n",
      "max    7182.000000  3022.294000   434.400000    44.000000    -999.25   \n",
      "\n",
      "         val_again              X             Y        error  \n",
      "count  3458.000000    3458.000000  3.458000e+03  3458.000000  \n",
      "mean    104.141024  457761.935920  6.818324e+06     5.760989  \n",
      "std     496.934047    2544.119676  4.005487e+03     3.445397  \n",
      "min    -999.250000  449984.880000  6.808175e+06    -1.000000  \n",
      "25%     277.455000  456033.057500  6.816546e+06     2.500000  \n",
      "50%     315.300000  458439.480000  6.818610e+06     5.000000  \n",
      "75%     353.180000  459588.667500  6.820279e+06    10.000000  \n",
      "max     434.400000  462202.650000  6.826556e+06    44.000000  \n",
      "Types of measurements:\n",
      "--------------------\n",
      "['Pressure']\n",
      "Fractions: \n",
      "--------------------\n",
      "Pressure    1.0\n",
      "Name: datatype, dtype: float64\n"
     ]
    }
   ],
   "source": [
    "separator = \"\\n--------------------\\n\"\n",
    "print(\"Datatypes: \", MERGED.dtypes, sep=separator)\n",
    "print(\"Description of string columns:\", MERGED.describe(include=[object]), sep=separator)\n",
    "print(\"Description of float columns:\", MERGED.describe(), sep=separator)\n",
    "print(\"Types of measurements:\", MERGED.datatype.unique().tolist(), sep=separator)\n",
    "print(\"Fractions: \", MERGED.datatype.value_counts(normalize=True).round(2), sep=separator)\n"
   ]
  },
  {
   "cell_type": "markdown",
   "metadata": {},
   "source": [
    "### Create files for general observations"
   ]
  },
  {
   "cell_type": "code",
   "execution_count": 19,
   "metadata": {},
   "outputs": [
    {
     "name": "stdout",
     "output_type": "stream",
     "text": [
      "Exporting to /private/dbs/git/subscript/src/subscript/fmuobs/test_rfts\n"
     ]
    }
   ],
   "source": [
    "out_dir = Path().cwd() / \"test_rfts\"\n",
    "out_dir.mkdir(parents=True, exist_ok=True)\n",
    "print(f\"Exporting to {str(out_dir)}\")\n",
    "well_info_name = out_dir / \"well_name_time_restart.txt\"\n",
    "pd.Series(MERGED[\"COMBINED_INFO\"].unique()).to_csv(well_info_name, index=False, header=False)\n",
    "for well_name in MERGED.well_name.unique():\n",
    "    sub_set = MERGED.loc[MERGED.well_name==well_name]\n",
    "    observations = sub_set[[\"value\", \"error\"]]\n",
    "    spatials = sub_set[[\"md\", \"tvd\", \"X\", \"Y\", \"zone\"]]\n",
    "    ecl_name = sub_set[\"eclipse\"].unique().tolist()[0]\n",
    "\n",
    "    obs_file_name = out_dir / f\"{ecl_name}.obs\"\n",
    "    observations.to_csv(obs_file_name, sep=\" \", index=False, header=False)\n",
    "\n",
    "    space_file_name = out_dir / f\"{ecl_name}.txt\"\n",
    "    spatials.to_csv(space_file_name, sep=\" \", index=False, header=False)\n",
    "\n",
    "\n",
    "\n"
   ]
  }
 ],
 "metadata": {
  "kernelspec": {
   "display_name": "venv",
   "language": "python",
   "name": "python3"
  },
  "language_info": {
   "codemirror_mode": {
    "name": "ipython",
    "version": 3
   },
   "file_extension": ".py",
   "mimetype": "text/x-python",
   "name": "python",
   "nbconvert_exporter": "python",
   "pygments_lexer": "ipython3",
   "version": "3.8.18"
  }
 },
 "nbformat": 4,
 "nbformat_minor": 2
}
